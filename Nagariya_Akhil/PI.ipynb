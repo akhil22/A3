{
 "cells": [
  {
   "cell_type": "code",
   "execution_count": 1,
   "metadata": {},
   "outputs": [],
   "source": [
    "import gym\n",
    "from gym.envs.registration import register\n",
    "register(\n",
    "    id='D4x4-FrozenLake-v0',\n",
    "    entry_point='gym.envs.toy_text.frozen_lake:FrozenLakeEnv',\n",
    "    kwargs={'map_name': '4x4',\n",
    "            'is_slippery': True})\n",
    "env = gym.make('D4x4-FrozenLake-v0')"
   ]
  },
  {
   "cell_type": "code",
   "execution_count": 2,
   "metadata": {},
   "outputs": [],
   "source": [
    "gamma = 0.9\n",
    "import numpy as np"
   ]
  },
  {
   "cell_type": "code",
   "execution_count": 12,
   "metadata": {},
   "outputs": [],
   "source": [
    "pi=np.random.randint(0,3,16)"
   ]
  },
  {
   "cell_type": "code",
   "execution_count": 37,
   "metadata": {},
   "outputs": [],
   "source": [
    "def eval_policy(env, pi, v):\n",
    "    v_t = v\n",
    "    max_itr = 3\n",
    "    for i in range(0, max_itr):\n",
    "        v_new = np.zeros(env.nS)\n",
    "        for s in range(0, env.nS):\n",
    "            for t in env.P[s][pi[s]]:\n",
    "                v_new[s] = v_new[s] + t[0]*(t[2] + gamma*v_t[t[1]]) \n",
    "        v_t = v_new\n",
    "    return v_t"
   ]
  },
  {
   "cell_type": "code",
   "execution_count": 38,
   "metadata": {},
   "outputs": [],
   "source": [
    "def mod_policy(env , v):\n",
    "    pi = np.random.randint(0,3,16)\n",
    "    for s in range(0, env.nS):\n",
    "        v_opt = 0\n",
    "        for a in range(0, env.nA):\n",
    "            v_temp = 0\n",
    "            for t in env.P[s][a]:\n",
    "                v_temp = v_temp + t[0]*(t[2] + gamma*v[t[1]])\n",
    "            if v_opt <= v_temp:\n",
    "                v_opt = v_temp\n",
    "                pi[s] = a \n",
    "    return pi"
   ]
  },
  {
   "cell_type": "code",
   "execution_count": 39,
   "metadata": {},
   "outputs": [],
   "source": [
    "v = np.random.random(env.nS)\n",
    "v_new = v"
   ]
  },
  {
   "cell_type": "code",
   "execution_count": 40,
   "metadata": {},
   "outputs": [],
   "source": [
    "n_itr = 100\n",
    "eps = n_itr*[None]\n",
    "for i in range(0,n_itr):\n",
    "    pi = mod_policy(env, v_new)\n",
    "    v = eval_policy(env, pi, v_new)\n",
    "    eps[i] = np.linalg.norm(v-v_new)\n",
    "    v_new = v"
   ]
  },
  {
   "cell_type": "code",
   "execution_count": 41,
   "metadata": {},
   "outputs": [],
   "source": [
    "def get_q_func(env, v):\n",
    "    q = np.zeros([env.nS, env.nA])\n",
    "    for s in range(0, env.nS):\n",
    "        for a in range(0, env.nA):\n",
    "            for t in env.P[s][a]:\n",
    "                q[s][a] = q[s][a] + t[0]*(t[2] + gamma*v[t[1]])\n",
    "    return q"
   ]
  },
  {
   "cell_type": "code",
   "execution_count": 42,
   "metadata": {},
   "outputs": [
    {
     "name": "stdout",
     "output_type": "stream",
     "text": [
      "optimal q function: [[6.88909049e-02 6.66480049e-02 6.66480049e-02 5.97589144e-02]\n",
      " [3.90916429e-02 4.29902001e-02 4.07473000e-02 6.14145715e-02]\n",
      " [7.44097620e-02 6.88290298e-02 7.27275870e-02 5.74894965e-02]\n",
      " [3.90651250e-02 3.90651250e-02 3.34843929e-02 5.58073215e-02]\n",
      " [9.18545399e-02 7.11872684e-02 6.42981779e-02 4.82236334e-02]\n",
      " [3.55168275e-15 3.55168275e-15 3.55168275e-15 3.55168275e-15]\n",
      " [1.12208206e-01 8.98852778e-02 1.12208206e-01 2.23229286e-02]\n",
      " [7.03460392e-17 7.03460392e-17 7.03460392e-17 7.03460392e-17]\n",
      " [7.11872684e-02 1.17879993e-01 1.01805448e-01 1.45436355e-01]\n",
      " [1.57611677e-01 2.47496955e-01 2.03866048e-01 1.33516184e-01]\n",
      " [2.99617593e-01 2.65955131e-01 2.25368506e-01 1.07911548e-01]\n",
      " [2.91664337e-15 2.91664337e-15 2.91664337e-15 2.91664337e-15]\n",
      " [3.35214373e-15 3.35214373e-15 3.35214373e-15 3.35214373e-15]\n",
      " [1.88229857e-01 3.05686815e-01 3.79935901e-01 2.65955131e-01]\n",
      " [3.95572093e-01 6.39020148e-01 6.14924656e-01 5.37199382e-01]\n",
      " [9.51220134e-15 9.51220134e-15 9.51220134e-15 9.51220134e-15]]\n"
     ]
    }
   ],
   "source": [
    "print(F'optimal q function: {get_q_func(env,v)}')"
   ]
  },
  {
   "cell_type": "code",
   "execution_count": 43,
   "metadata": {},
   "outputs": [],
   "source": [
    "import matplotlib.pyplot as plt"
   ]
  },
  {
   "cell_type": "code",
   "execution_count": 44,
   "metadata": {},
   "outputs": [
    {
     "data": {
      "text/plain": [
       "Text(0, 0.5, 'L2 norm of change in value function')"
      ]
     },
     "execution_count": 44,
     "metadata": {},
     "output_type": "execute_result"
    },
    {
     "data": {
      "image/png": "[encoded data removed]",
      "text/plain": [
       "<Figure size 432x288 with 1 Axes>"
      ]
     },
     "metadata": {
      "needs_background": "light"
     },
     "output_type": "display_data"
    }
   ],
   "source": [
    "plt.plot(eps)\n",
    "plt.title(\"L2 norm of change in value function with number of iterations\")\n",
    "plt.xlabel('iterations')\n",
    "plt.ylabel(\"L2 norm of change in value function\")"
   ]
  },
  {
   "cell_type": "code",
   "execution_count": 45,
   "metadata": {},
   "outputs": [],
   "source": [
    "import seaborn\n",
    "import matplotlib.pyplot as plt\n",
    "import numpy as np\n",
    "def fancy_visual(value_func,policy_int):    \n",
    "    grid = 4\n",
    "    f, ax = plt.subplots(figsize=(11, 9))\n",
    "    cmap = seaborn.diverging_palette(220, 10, as_cmap=True)\n",
    "    reshaped=np.reshape(value_func,(grid,grid))\n",
    "    seaborn.heatmap(reshaped, cmap=cmap, vmax=1.1,\n",
    "                square=True, xticklabels=grid+1, yticklabels=grid+1,\n",
    "                linewidths=.5, cbar_kws={\"shrink\": .5}, ax=ax, annot=True, fmt=\"f\")\n",
    "    counter=0\n",
    "    for j in range(0, 4):\n",
    "        for i in range(0, 4):\n",
    "            if policy_int[counter]==1:\n",
    "                plt.text(i+0.5, j+0.7, u'\\u2193', fontsize=12)\n",
    "            elif policy_int[counter]==3:\n",
    "                plt.text(i+0.5, j+0.7, u'\\u2191', fontsize=12)\n",
    "            elif policy_int[counter]==0:\n",
    "                plt.text(i+0.5, j+0.7, u'\\u2190', fontsize=12)\n",
    "            else:\n",
    "                plt.text(i+0.5, j+0.7, u'\\u2192', fontsize=12)\n",
    "            counter=counter+1\n",
    "\n",
    "    plt.title('Heatmap of policy iteration with value function values and directions')\n",
    "    print('Value Function',value_func)\n",
    "    print('Policy',policy_int)\n",
    "    plt.show()"
   ]
  },
  {
   "cell_type": "code",
   "execution_count": 46,
   "metadata": {},
   "outputs": [
    {
     "name": "stdout",
     "output_type": "stream",
     "text": [
      "Value Function [6.88909049e-02 6.14145715e-02 7.44097620e-02 5.58073215e-02\n",
      " 9.18545399e-02 3.94631416e-15 1.12208206e-01 7.81622658e-17\n",
      " 1.45436355e-01 2.47496955e-01 2.99617593e-01 3.24071485e-15\n",
      " 3.72460414e-15 3.79935901e-01 6.39020148e-01 1.05691126e-14]\n",
      "Policy [0 3 0 3 0 3 0 3 3 1 0 3 3 2 1 3]\n"
     ]
    },
    {
     "data": {
      "image/png": "[encoded data removed]",
      "text/plain": [
       "<Figure size 792x648 with 2 Axes>"
      ]
     },
     "metadata": {
      "needs_background": "light"
     },
     "output_type": "display_data"
    }
   ],
   "source": [
    "fancy_visual(v_new, pi)"
   ]
  },
  {
   "cell_type": "code",
   "execution_count": null,
   "metadata": {},
   "outputs": [],
   "source": []
  }
 ],
 "metadata": {
  "kernelspec": {
   "display_name": "Python 3",
   "language": "python",
   "name": "python3"
  },
  "language_info": {
   "codemirror_mode": {
    "name": "ipython",
    "version": 3
   },
   "file_extension": ".py",
   "mimetype": "text/x-python",
   "name": "python",
   "nbconvert_exporter": "python",
   "pygments_lexer": "ipython3",
   "version": "3.7.4"
  }
 },
 "nbformat": 4,
 "nbformat_minor": 2
}
